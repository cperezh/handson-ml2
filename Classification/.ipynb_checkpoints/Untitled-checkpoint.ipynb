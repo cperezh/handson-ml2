{
 "cells": [
  {
   "cell_type": "code",
   "execution_count": 1,
   "metadata": {},
   "outputs": [],
   "source": [
    "import matplotlib.pyplot as plt\n",
    "import numpy as np\n",
    "import pandas as pd\n",
    "import sys"
   ]
  },
  {
   "cell_type": "code",
   "execution_count": 2,
   "metadata": {},
   "outputs": [],
   "source": [
    "mnist = pd.read_csv(\"../datasets/mnist_784.csv\",dtype=\"int8\")"
   ]
  },
  {
   "cell_type": "markdown",
   "metadata": {},
   "source": [
    "# Separate Test Data"
   ]
  },
  {
   "cell_type": "code",
   "execution_count": 3,
   "metadata": {},
   "outputs": [],
   "source": [
    "X = pd.DataFrame(mnist.iloc[:,:-1])\n",
    "y = pd.DataFrame(mnist.iloc[:,-1:])\n",
    "\n",
    "X_train, y_train = X.iloc[:60000], y.iloc[:60000]\n",
    "X_test, y_test = X.iloc[60000:], y.iloc[60000:]"
   ]
  },
  {
   "cell_type": "markdown",
   "metadata": {},
   "source": [
    "# Learn number 5"
   ]
  },
  {
   "cell_type": "code",
   "execution_count": 4,
   "metadata": {},
   "outputs": [],
   "source": [
    "y_train_5 = y_train[\"class\"]==5\n",
    "y_test_5 = y_test[\"class\"]==5"
   ]
  },
  {
   "cell_type": "code",
   "execution_count": 5,
   "metadata": {},
   "outputs": [],
   "source": [
    "from sklearn.ensemble import GradientBoostingClassifier\n",
    "from sklearn.linear_model import Perceptron\n",
    "from sklearn.linear_model import LogisticRegression\n",
    "from sklearn.svm import LinearSVC\n",
    "from sklearn.ensemble import RandomForestClassifier\n",
    "from sklearn.ensemble import AdaBoostClassifier\n",
    "from sklearn.tree import DecisionTreeClassifier\n",
    "from sklearn.model_selection import GridSearchCV"
   ]
  },
  {
   "cell_type": "markdown",
   "metadata": {},
   "source": [
    "Models"
   ]
  },
  {
   "cell_type": "code",
   "execution_count": 6,
   "metadata": {},
   "outputs": [],
   "source": [
    "#model = GradientBoostingClassifier(random_state=0)\n",
    "#model = Perceptron(random_state=0)\n",
    "#model = (LogisticRegression(random_state=0), \"logisticreg\")\n",
    "#model = (LinearSVC(), \"SVM\")\n",
    "#model = (RandomForestClassifier(), \"RandomForest\")\n",
    "#model = (AdaBoostClassifier(random_state=0), \"AdaBoost\")\n",
    "model = (DecisionTreeClassifier(), \"DecisionTree\")\n"
   ]
  },
  {
   "cell_type": "markdown",
   "metadata": {},
   "source": [
    "Training"
   ]
  },
  {
   "cell_type": "code",
   "execution_count": 22,
   "metadata": {},
   "outputs": [
    {
     "data": {
      "text/plain": [
       "GridSearchCV(cv=3, estimator=DecisionTreeClassifier(),\n",
       "             param_grid={'max_depth': [1, 2, 10, 20, 50]})"
      ]
     },
     "execution_count": 22,
     "metadata": {},
     "output_type": "execute_result"
    }
   ],
   "source": [
    "from sklearn.model_selection import cross_val_predict\n",
    "\n",
    "#y_pred = model[0].fit(X_train, y_train_5).predict(X_train)\n",
    "parameters = {\"max_depth\":[1,2,10,20,50]}\n",
    "\n",
    "clf = GridSearchCV(model[0], parameters, cv=3)\n",
    "\n",
    "clf.fit(X_train,y_train_5)"
   ]
  },
  {
   "cell_type": "code",
   "execution_count": null,
   "metadata": {},
   "outputs": [],
   "source": [
    "clf.plot_tree()"
   ]
  },
  {
   "cell_type": "markdown",
   "metadata": {},
   "source": [
    "Best Estimator"
   ]
  },
  {
   "cell_type": "code",
   "execution_count": 23,
   "metadata": {},
   "outputs": [
    {
     "name": "stdout",
     "output_type": "stream",
     "text": [
      "{'max_depth': 20}\n"
     ]
    },
    {
     "data": {
      "text/plain": [
       "{'mean_fit_time': array([ 1.65924589,  2.68139195, 13.3842361 , 24.36485418, 37.3192114 ]),\n",
       " 'std_fit_time': array([0.08410778, 0.01189737, 1.32155619, 0.43943561, 1.89921606]),\n",
       " 'mean_score_time': array([0.18183359, 0.16918373, 0.17761183, 0.17698121, 0.18487636]),\n",
       " 'std_score_time': array([0.00486911, 0.00936604, 0.01708817, 0.00612138, 0.00604462]),\n",
       " 'param_max_depth': masked_array(data=[1, 2, 10, 20, 50],\n",
       "              mask=[False, False, False, False, False],\n",
       "        fill_value='?',\n",
       "             dtype=object),\n",
       " 'params': [{'max_depth': 1},\n",
       "  {'max_depth': 2},\n",
       "  {'max_depth': 10},\n",
       "  {'max_depth': 20},\n",
       "  {'max_depth': 50}],\n",
       " 'split0_test_score': array([0.91555, 0.9242 , 0.9576 , 0.9641 , 0.9581 ]),\n",
       " 'split1_test_score': array([0.91365, 0.92185, 0.95645, 0.9661 , 0.9606 ]),\n",
       " 'split2_test_score': array([0.91505, 0.92165, 0.956  , 0.96295, 0.96045]),\n",
       " 'mean_test_score': array([0.91475   , 0.92256667, 0.95668333, 0.96438333, 0.95971667]),\n",
       " 'std_test_score': array([0.00080416, 0.00115782, 0.00067371, 0.00130149, 0.00114479]),\n",
       " 'rank_test_score': array([5, 4, 3, 1, 2], dtype=int32)}"
      ]
     },
     "execution_count": 23,
     "metadata": {},
     "output_type": "execute_result"
    }
   ],
   "source": [
    "print(clf.best_params_)\n",
    "clf.cv_results_"
   ]
  },
  {
   "cell_type": "code",
   "execution_count": 24,
   "metadata": {},
   "outputs": [
    {
     "name": "stdout",
     "output_type": "stream",
     "text": [
      "[0, 1, 2, 3, 4]\n"
     ]
    }
   ],
   "source": [
    "print(list(range(len(clf.cv_results_[\"mean_test_score\"]))))"
   ]
  },
  {
   "cell_type": "code",
   "execution_count": 25,
   "metadata": {},
   "outputs": [
    {
     "data": {
      "text/plain": [
       "[<matplotlib.lines.Line2D at 0x1c0b8100>]"
      ]
     },
     "execution_count": 25,
     "metadata": {},
     "output_type": "execute_result"
    },
    {
     "data": {
      "image/png": "[encoded data removed]",
      "text/plain": [
       "<Figure size 432x288 with 1 Axes>"
      ]
     },
     "metadata": {
      "needs_background": "light"
     },
     "output_type": "display_data"
    }
   ],
   "source": [
    "plt.plot(clf.cv_results_[\"mean_test_score\"])"
   ]
  },
  {
   "cell_type": "code",
   "execution_count": 27,
   "metadata": {},
   "outputs": [
    {
     "data": {
      "text/plain": [
       "array([[54530,    49],\n",
       "       [  216,  5205]], dtype=int64)"
      ]
     },
     "execution_count": 27,
     "metadata": {},
     "output_type": "execute_result"
    }
   ],
   "source": [
    "from sklearn.metrics import confusion_matrix\n",
    "\n",
    "y_pred = clf.predict(X_train)\n",
    "\n",
    "conf_matrix = confusion_matrix(y_train_5, y_pred)\n",
    "\n",
    "conf_matrix"
   ]
  },
  {
   "cell_type": "code",
   "execution_count": 30,
   "metadata": {},
   "outputs": [
    {
     "data": {
      "text/plain": [
       "array([[8967,  141],\n",
       "       [ 163,  729]], dtype=int64)"
      ]
     },
     "execution_count": 30,
     "metadata": {},
     "output_type": "execute_result"
    }
   ],
   "source": [
    "y_test_pred = clf.predict(X_test)\n",
    "\n",
    "conf_matrix = confusion_matrix(y_test_5, y_test_pred)\n",
    "\n",
    "conf_matrix"
   ]
  },
  {
   "cell_type": "markdown",
   "metadata": {},
   "source": [
    "Precision Recall"
   ]
  },
  {
   "cell_type": "code",
   "execution_count": 31,
   "metadata": {},
   "outputs": [
    {
     "name": "stdout",
     "output_type": "stream",
     "text": [
      "Precision:  0.9906737723639132\n",
      "Recall:  0.9601549529607084\n",
      "F1_score:  0.9751756440281031\n"
     ]
    }
   ],
   "source": [
    "from sklearn.metrics import recall_score\n",
    "from sklearn.metrics import precision_score\n",
    "from sklearn.metrics import f1_score\n",
    "\n",
    "precision = precision_score(y_train_5, y_pred)\n",
    "recall = recall_score(y_train_5, y_pred)\n",
    "f1_scr = f1_score(y_train_5, y_pred)\n",
    "\n",
    "print(\"Precision: \",precision)\n",
    "print(\"Recall: \",recall)\n",
    "print(\"F1_score: \",f1_scr)"
   ]
  },
  {
   "cell_type": "code",
   "execution_count": 33,
   "metadata": {},
   "outputs": [],
   "source": [
    "from sklearn.metrics import precision_recall_curve\n",
    "from sklearn.model_selection import cross_val_score\n",
    "\n",
    "y_scores = clf.predict_proba(X_train)"
   ]
  },
  {
   "cell_type": "code",
   "execution_count": 34,
   "metadata": {},
   "outputs": [
    {
     "data": {
      "text/plain": [
       "array([[0.0017452 , 0.9982548 ],\n",
       "       [0.98901099, 0.01098901],\n",
       "       [0.99557936, 0.00442064],\n",
       "       ...,\n",
       "       [0.0017452 , 0.9982548 ],\n",
       "       [0.99498968, 0.00501032],\n",
       "       [1.        , 0.        ]])"
      ]
     },
     "execution_count": 34,
     "metadata": {},
     "output_type": "execute_result"
    }
   ],
   "source": [
    "y_scores"
   ]
  },
  {
   "cell_type": "code",
   "execution_count": 36,
   "metadata": {},
   "outputs": [],
   "source": [
    "precisions, recalls, thresholds = precision_recall_curve(y_train_5, y_scores[:,1])"
   ]
  },
  {
   "cell_type": "code",
   "execution_count": 37,
   "metadata": {},
   "outputs": [
    {
     "data": {
      "text/plain": [
       "<matplotlib.legend.Legend at 0x1c45c4c0>"
      ]
     },
     "execution_count": 37,
     "metadata": {},
     "output_type": "execute_result"
    },
    {
     "data": {
      "image/png": "[encoded data removed]",
      "text/plain": [
       "<Figure size 432x288 with 1 Axes>"
      ]
     },
     "metadata": {
      "needs_background": "light"
     },
     "output_type": "display_data"
    }
   ],
   "source": [
    "plt.plot(thresholds,precisions[:-1], label=\"Precision\")\n",
    "plt.plot(thresholds,recalls[:-1], label=\"Recall\")\n",
    "plt.legend()"
   ]
  },
  {
   "cell_type": "markdown",
   "metadata": {},
   "source": [
    "Test Thresholds"
   ]
  },
  {
   "cell_type": "code",
   "execution_count": 38,
   "metadata": {},
   "outputs": [
    {
     "name": "stdout",
     "output_type": "stream",
     "text": [
      "Precision:  0.9906737723639132\n",
      "Recall:  0.9601549529607084\n",
      "F1_score:  0.9751756440281031\n"
     ]
    }
   ],
   "source": [
    "threshold = 0.5\n",
    "\n",
    "pred = y_scores[:,1]>threshold\n",
    "\n",
    "precision = precision_score(y_train_5, pred)\n",
    "recall = recall_score(y_train_5, pred)\n",
    "f1_scr = f1_score(y_train_5, y_pred)\n",
    "\n",
    "print(\"Precision: \",precision)\n",
    "print(\"Recall: \",recall)\n",
    "print(\"F1_score: \",f1_scr)"
   ]
  },
  {
   "cell_type": "markdown",
   "metadata": {},
   "source": [
    "ROC-AOC"
   ]
  },
  {
   "cell_type": "code",
   "execution_count": 39,
   "metadata": {},
   "outputs": [
    {
     "name": "stdout",
     "output_type": "stream",
     "text": [
      "ROC_AUC:  0.990134411123668\n"
     ]
    },
    {
     "data": {
      "image/png": "[encoded data removed]",
      "text/plain": [
       "<Figure size 432x288 with 1 Axes>"
      ]
     },
     "metadata": {
      "needs_background": "light"
     },
     "output_type": "display_data"
    }
   ],
   "source": [
    "from sklearn.metrics import roc_curve\n",
    "from sklearn.metrics import roc_auc_score\n",
    "\n",
    "fpr, tpr, thresholds = roc_curve(y_train_5, y_scores[:,1])\n",
    "\n",
    "plt.plot(fpr, tpr)\n",
    "axis = plt.gca()\n",
    "axis.set_xlabel(\"FPR\")\n",
    "axis.set_ylabel(\"TPR\")\n",
    "\n",
    "roc_auc = roc_auc_score(y_train_5, y_scores[:,1])\n",
    "\n",
    "print(\"ROC_AUC: \", roc_auc)"
   ]
  },
  {
   "cell_type": "markdown",
   "metadata": {},
   "source": [
    "Save Stats"
   ]
  },
  {
   "cell_type": "code",
   "execution_count": 40,
   "metadata": {},
   "outputs": [
    {
     "data": {
      "text/html": [
       "<div>\n",
       "<style scoped>\n",
       "    .dataframe tbody tr th:only-of-type {\n",
       "        vertical-align: middle;\n",
       "    }\n",
       "\n",
       "    .dataframe tbody tr th {\n",
       "        vertical-align: top;\n",
       "    }\n",
       "\n",
       "    .dataframe thead th {\n",
       "        text-align: right;\n",
       "    }\n",
       "</style>\n",
       "<table border=\"1\" class=\"dataframe\">\n",
       "  <thead>\n",
       "    <tr style=\"text-align: right;\">\n",
       "      <th></th>\n",
       "      <th>Model</th>\n",
       "      <th>Precision</th>\n",
       "      <th>Recall</th>\n",
       "      <th>F1_score</th>\n",
       "      <th>ROC_AUC</th>\n",
       "    </tr>\n",
       "  </thead>\n",
       "  <tbody>\n",
       "    <tr>\n",
       "      <th>0</th>\n",
       "      <td>DecisionTree</td>\n",
       "      <td>0.990674</td>\n",
       "      <td>0.960155</td>\n",
       "      <td>0.975176</td>\n",
       "      <td>0.990134</td>\n",
       "    </tr>\n",
       "  </tbody>\n",
       "</table>\n",
       "</div>"
      ],
      "text/plain": [
       "          Model  Precision    Recall  F1_score   ROC_AUC\n",
       "0  DecisionTree   0.990674  0.960155  0.975176  0.990134"
      ]
     },
     "execution_count": 40,
     "metadata": {},
     "output_type": "execute_result"
    }
   ],
   "source": [
    "stats = pd.DataFrame(columns=[\"Model\",\"Precision\", \"Recall\", \"F1_score\", \"ROC_AUC\"])\n",
    "stats.loc[len(stats)] = [model[1], precision, recall, f1_scr, roc_auc]\n",
    "stats"
   ]
  },
  {
   "cell_type": "code",
   "execution_count": 41,
   "metadata": {},
   "outputs": [
    {
     "data": {
      "text/plain": [
       "['DecisionTree_stats.pkl']"
      ]
     },
     "execution_count": 41,
     "metadata": {},
     "output_type": "execute_result"
    }
   ],
   "source": [
    "import joblib\n",
    "\n",
    "file = str(stats.loc[0,\"Model\"] + \"_stats.pkl\")\n",
    "\n",
    "joblib.dump(stats, file)"
   ]
  },
  {
   "cell_type": "markdown",
   "metadata": {},
   "source": [
    "Compare Performance"
   ]
  },
  {
   "cell_type": "code",
   "execution_count": 42,
   "metadata": {},
   "outputs": [
    {
     "name": "stdout",
     "output_type": "stream",
     "text": [
      "        Model  Precision    Recall  F1_score   ROC_AUC\n",
      "0  Perceptron   0.126807  0.199041  0.154917  0.550372\n",
      "         Model  Precision    Recall  F1_score   ROC_AUC\n",
      "0  logisticreg    0.46729  0.018447  0.035492  0.656258\n",
      "  Model  Precision    Recall  F1_score  ROC_AUC\n",
      "0   SVM   0.153906  0.110127  0.128387  0.52933\n",
      "          Model  Precision    Recall  F1_score   ROC_AUC\n",
      "0  RandomForest   0.990926  0.765541       1.0  0.996104\n",
      "      Model  Precision    Recall  F1_score  ROC_AUC\n",
      "0  AdaBoost   0.825207  0.586977   0.69372  0.95803\n",
      "          Model  Precision    Recall  F1_score   ROC_AUC\n",
      "0  DecisionTree   0.990674  0.960155  0.975176  0.990134\n"
     ]
    }
   ],
   "source": [
    "model_stats0 = joblib.load(\"Perceptronstats.pkl\")\n",
    "model_stats1 = joblib.load(\"logisticreg_stats.pkl\")\n",
    "model_stats2 = joblib.load(\"SVM_stats.pkl\")\n",
    "model_stats3 = joblib.load(\"RandomForest_stats.pkl\")\n",
    "model_stats4 = joblib.load(\"AdaBoost_stats.pkl\")\n",
    "model_stats5 = joblib.load(\"DecisionTree_stats.pkl\")\n",
    "print(model_stats0)\n",
    "print(model_stats1)\n",
    "print(model_stats2)\n",
    "print(model_stats3)\n",
    "print(model_stats4)\n",
    "print(model_stats5)"
   ]
  }
 ],
 "metadata": {
  "kernelspec": {
   "display_name": "python_homl2",
   "language": "python",
   "name": "python_homl2"
  },
  "language_info": {
   "codemirror_mode": {
    "name": "ipython",
    "version": 3
   },
   "file_extension": ".py",
   "mimetype": "text/x-python",
   "name": "python",
   "nbconvert_exporter": "python",
   "pygments_lexer": "ipython3",
   "version": "3.8.5"
  }
 },
 "nbformat": 4,
 "nbformat_minor": 4
}
