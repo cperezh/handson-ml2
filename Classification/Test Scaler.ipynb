{
 "cells": [
  {
   "cell_type": "code",
   "execution_count": 1,
   "metadata": {},
   "outputs": [],
   "source": [
    "import pandas as pd\n",
    "import matplotlib.pyplot as plt\n",
    "import joblib\n",
    "from sklearn.preprocessing import MinMaxScaler"
   ]
  },
  {
   "cell_type": "code",
   "execution_count": 2,
   "metadata": {},
   "outputs": [],
   "source": [
    "model = joblib.load(\"RandomForest.pkl\")"
   ]
  },
  {
   "cell_type": "code",
   "execution_count": 3,
   "metadata": {},
   "outputs": [],
   "source": [
    "mnist = pd.read_csv(\"../datasets/mnist_784.csv\",dtype=\"int16\")\n",
    "\n",
    "\n",
    "X = pd.DataFrame(mnist.iloc[:,:-1])\n",
    "y = pd.DataFrame(mnist.iloc[:,-1:])\n",
    "\n",
    "scaler = joblib.load(\"scaler.pkl\")\n",
    "\n",
    "X_scaled = pd.DataFrame(scaler.transform(X))\n",
    "\n",
    "X_train, y_train = X_scaled.iloc[:60000], y.iloc[:60000]\n",
    "X_test, y_test = X_scaled.iloc[60000:], y.iloc[60000:]"
   ]
  },
  {
   "cell_type": "code",
   "execution_count": 4,
   "metadata": {},
   "outputs": [],
   "source": [
    "y_pred = model.predict(X_train)"
   ]
  },
  {
   "cell_type": "code",
   "execution_count": 5,
   "metadata": {},
   "outputs": [],
   "source": [
    "y_train_6 = y_train[\"class\"]==6"
   ]
  },
  {
   "cell_type": "code",
   "execution_count": 6,
   "metadata": {},
   "outputs": [
    {
     "name": "stdout",
     "output_type": "stream",
     "text": [
      "5880\n",
      "17\n",
      "54065\n",
      "38\n",
      "Precision:  0.9971171782262167\n",
      "Recall: 0.9935789117945252\n"
     ]
    }
   ],
   "source": [
    "tp = X_train[(y_pred == True) & (y_train_6==True)].shape[0]; print(tp)\n",
    "fp = X_train[(y_pred == True) & (y_train_6==False)].shape[0]; print(fp)\n",
    "tn = X_train[(y_pred == False) & (y_train_6==False)].shape[0]; print(tn)\n",
    "fn = X_train[(y_pred == False) & (y_train_6==True)].shape[0]; print(fn)\n",
    "print(\"Precision: \",tp/(fp+tp))\n",
    "print(\"Recall:\", tp/(tp+fn))"
   ]
  },
  {
   "cell_type": "code",
   "execution_count": 56,
   "metadata": {},
   "outputs": [
    {
     "data": {
      "text/plain": [
       "(38, 1)"
      ]
     },
     "execution_count": 56,
     "metadata": {},
     "output_type": "execute_result"
    }
   ],
   "source": [
    "fp_examples = X_train[(y_pred == False) & (y_train_6==True)]\n",
    "fp_examples_class = y_train[(y_pred == False) & (y_train_6==True)]\n",
    "fp_examples_class.shape"
   ]
  },
  {
   "cell_type": "code",
   "execution_count": 58,
   "metadata": {},
   "outputs": [
    {
     "name": "stdout",
     "output_type": "stream",
     "text": [
      "6  6  6  6  "
     ]
    },
    {
     "data": {
      "image/png": "[encoded data removed]",
      "text/plain": [
       "<Figure size 432x288 with 4 Axes>"
      ]
     },
     "metadata": {
      "needs_background": "light"
     },
     "output_type": "display_data"
    }
   ],
   "source": [
    "fp_examples_origin = scaler.inverse_transform(fp_examples)\n",
    "\n",
    "fg,ax = plt.subplots(1,4)\n",
    "\n",
    "for i, a in enumerate(ax):\n",
    "    a.imshow(fp_examples_origin[i].reshape(28,28), cmap=\"binary\")\n",
    "    print(fp_examples_class.iloc[i][\"class\"],\" \",  end='')"
   ]
  },
  {
   "cell_type": "code",
   "execution_count": 10,
   "metadata": {},
   "outputs": [
    {
     "data": {
      "text/plain": [
       "array([[54065,    17],\n",
       "       [   38,  5880]], dtype=int64)"
      ]
     },
     "execution_count": 10,
     "metadata": {},
     "output_type": "execute_result"
    }
   ],
   "source": [
    "from sklearn.metrics import confusion_matrix\n",
    "\n",
    "confusion_matrix(y_train_6, y_pred)"
   ]
  },
  {
   "cell_type": "code",
   "execution_count": null,
   "metadata": {},
   "outputs": [],
   "source": []
  }
 ],
 "metadata": {
  "kernelspec": {
   "display_name": "python_homl2",
   "language": "python",
   "name": "python_homl2"
  },
  "language_info": {
   "codemirror_mode": {
    "name": "ipython",
    "version": 3
   },
   "file_extension": ".py",
   "mimetype": "text/x-python",
   "name": "python",
   "nbconvert_exporter": "python",
   "pygments_lexer": "ipython3",
   "version": "3.8.5"
  }
 },
 "nbformat": 4,
 "nbformat_minor": 4
}
