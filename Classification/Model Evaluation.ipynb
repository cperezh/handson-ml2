{
 "cells": [
  {
   "cell_type": "code",
   "execution_count": 1,
   "metadata": {},
   "outputs": [],
   "source": [
    "import pandas as pd\n",
    "import matplotlib.pyplot as plt\n",
    "import joblib\n",
    "from sklearn.preprocessing import MinMaxScaler\n",
    "from sklearn.model_selection import GridSearchCV"
   ]
  },
  {
   "cell_type": "markdown",
   "metadata": {},
   "source": [
    "Read Data"
   ]
  },
  {
   "cell_type": "code",
   "execution_count": 2,
   "metadata": {},
   "outputs": [],
   "source": [
    "mnist = pd.read_csv(\"../datasets/mnist_784.csv\",dtype=\"int16\")"
   ]
  },
  {
   "cell_type": "code",
   "execution_count": 3,
   "metadata": {},
   "outputs": [
    {
     "data": {
      "text/plain": [
       "(70000, 785)"
      ]
     },
     "execution_count": 3,
     "metadata": {},
     "output_type": "execute_result"
    }
   ],
   "source": [
    "mnist.shape"
   ]
  },
  {
   "cell_type": "markdown",
   "metadata": {},
   "source": [
    "Build train and test set"
   ]
  },
  {
   "cell_type": "code",
   "execution_count": 4,
   "metadata": {},
   "outputs": [],
   "source": [
    "X = pd.DataFrame(mnist.iloc[:,:-1])\n",
    "y = pd.DataFrame(mnist.iloc[:,-1:])\n",
    "\n",
    "scaler = MinMaxScaler()\n",
    "\n",
    "X_scaled = pd.DataFrame(scaler.fit_transform(X))\n",
    "\n",
    "X_train, y_train = X_scaled.iloc[:1000], y.iloc[:1000]\n",
    "X_test, y_test = X_scaled.iloc[60000:], y.iloc[60000:]"
   ]
  },
  {
   "cell_type": "code",
   "execution_count": 5,
   "metadata": {},
   "outputs": [
    {
     "data": {
      "text/plain": [
       "(10000, 784)"
      ]
     },
     "execution_count": 5,
     "metadata": {},
     "output_type": "execute_result"
    }
   ],
   "source": [
    "X_test.shape"
   ]
  },
  {
   "cell_type": "markdown",
   "metadata": {},
   "source": [
    "Learn number 6"
   ]
  },
  {
   "cell_type": "code",
   "execution_count": 6,
   "metadata": {},
   "outputs": [],
   "source": [
    "y_train_6 = y_train[\"class\"]==6\n",
    "y_test_6 = y_test[\"class\"]==6"
   ]
  },
  {
   "cell_type": "markdown",
   "metadata": {},
   "source": [
    "# Start testing models"
   ]
  },
  {
   "cell_type": "markdown",
   "metadata": {},
   "source": [
    "**Decission Tree**"
   ]
  },
  {
   "cell_type": "code",
   "execution_count": null,
   "metadata": {},
   "outputs": [],
   "source": [
    "from sklearn.tree import DecisionTreeClassifier\n",
    "\n",
    "model = (DecisionTreeClassifier(random_state=0), \"DecisionTree\")\n",
    "\n",
    "param_grid = parameters = {\"max_depth\":[10, 20, 30, 40]}\n",
    "\n",
    "clf = GridSearchCV(model[0], param_grid=param_grid, cv=5)\n",
    "\n",
    "clf.fit(X_train, y_train_6)"
   ]
  },
  {
   "cell_type": "code",
   "execution_count": null,
   "metadata": {},
   "outputs": [],
   "source": [
    "print(clf.best_params_)\n",
    "plt.plot(clf.cv_results_[\"mean_test_score\"])"
   ]
  },
  {
   "cell_type": "code",
   "execution_count": null,
   "metadata": {},
   "outputs": [],
   "source": [
    "plt.plot(clf.cv_results_[\"mean_test_score\"])"
   ]
  },
  {
   "cell_type": "code",
   "execution_count": null,
   "metadata": {},
   "outputs": [],
   "source": [
    "from sklearn.metrics import f1_score\n",
    "\n",
    "y_pred_train = clf.predict(X_train)\n",
    "y_pred_test = clf.predict(X_test)\n",
    "\n",
    "f1_scr_train = f1_score(y_train_6, y_pred_train)\n",
    "f1_scr_test = f1_score(y_test_6, y_pred_test)\n",
    "\n",
    "print(\"Train: \", f1_scr_train)\n",
    "print(\"Test: \", f1_scr_test)"
   ]
  },
  {
   "cell_type": "markdown",
   "metadata": {},
   "source": [
    "**Random Forest**"
   ]
  },
  {
   "cell_type": "code",
   "execution_count": 5,
   "metadata": {},
   "outputs": [
    {
     "name": "stdout",
     "output_type": "stream",
     "text": [
      "{'max_features': 100, 'n_estimators': 5}\n"
     ]
    },
    {
     "data": {
      "text/plain": [
       "[<matplotlib.lines.Line2D at 0x121e02b0>]"
      ]
     },
     "execution_count": 5,
     "metadata": {},
     "output_type": "execute_result"
    },
    {
     "data": {
      "image/png": "[encoded data removed]",
      "text/plain": [
       "<Figure size 432x288 with 1 Axes>"
      ]
     },
     "metadata": {
      "needs_background": "light"
     },
     "output_type": "display_data"
    }
   ],
   "source": [
    "from sklearn.ensemble import RandomForestClassifier\n",
    "\n",
    "model = (RandomForestClassifier(random_state=0), \"RandomForest\")\n",
    "\n",
    "param_grid = {\"n_estimators\":[5], \"max_features\":[100]}\n",
    "\n",
    "clf = GridSearchCV(model[0], param_grid=param_grid, cv=3)\n",
    "\n",
    "clf.fit(X_train, y_train_6)\n",
    "\n",
    "print(clf.best_params_)\n",
    "plt.plot(clf.cv_results_[\"mean_test_score\"])"
   ]
  },
  {
   "cell_type": "code",
   "execution_count": 6,
   "metadata": {},
   "outputs": [
    {
     "name": "stdout",
     "output_type": "stream",
     "text": [
      "Train:  0.9953449005501482\n",
      "Test:  0.9550977284733227\n",
      "\n",
      "## Precision ##\n",
      "Train:  0.9971171782262167\n",
      "Test:  0.9668449197860962\n",
      "\n",
      "## Recall ##\n",
      "Train:  0.9935789117945252\n",
      "Test:  0.9436325678496869\n"
     ]
    }
   ],
   "source": [
    "from sklearn.metrics import f1_score\n",
    "from sklearn.metrics import recall_score\n",
    "from sklearn.metrics import precision_score\n",
    "\n",
    "y_pred_train = clf.predict(X_train)\n",
    "y_pred_test = clf.predict(X_test)\n",
    "\n",
    "f1_scr_train = f1_score(y_train_6, y_pred_train)\n",
    "f1_scr_test = f1_score(y_test_6, y_pred_test)\n",
    "\n",
    "print(\"Train: \", f1_scr_train)\n",
    "print(\"Test: \", f1_scr_test)\n",
    "\n",
    "precision_train = precision_score(y_train_6, y_pred_train)\n",
    "precision_test = precision_score(y_test_6, y_pred_test)\n",
    "recall_train = recall_score(y_train_6, y_pred_train)\n",
    "recall_test = recall_score(y_test_6, y_pred_test)\n",
    "\n",
    "print(\"\\n## Precision ##\")\n",
    "print(\"Train: \", precision_train)\n",
    "print(\"Test: \", precision_test)\n",
    "print(\"\\n## Recall ##\")\n",
    "print(\"Train: \", recall_train)\n",
    "print(\"Test: \", recall_test)"
   ]
  },
  {
   "cell_type": "markdown",
   "metadata": {},
   "source": [
    "**KNC**"
   ]
  },
  {
   "cell_type": "code",
   "execution_count": 7,
   "metadata": {},
   "outputs": [
    {
     "name": "stdout",
     "output_type": "stream",
     "text": [
      "{'n_neighbors': 5, 'weights': 'uniform'}\n"
     ]
    },
    {
     "data": {
      "text/plain": [
       "[<matplotlib.lines.Line2D at 0x122f6058>]"
      ]
     },
     "execution_count": 7,
     "metadata": {},
     "output_type": "execute_result"
    },
    {
     "data": {
      "image/png": "[encoded data removed]",
      "text/plain": [
       "<Figure size 432x288 with 1 Axes>"
      ]
     },
     "metadata": {
      "needs_background": "light"
     },
     "output_type": "display_data"
    }
   ],
   "source": [
    "from sklearn.neighbors import KNeighborsClassifier\n",
    "\n",
    "model = (KNeighborsClassifier(),\"KNeighborsClassifier\")\n",
    "\n",
    "param_grid = [{\"n_neighbors\":[5],\"weights\":[\"uniform\"]}]\n",
    "\n",
    "clf = GridSearchCV(model[0], param_grid=param_grid, cv=3)\n",
    "\n",
    "clf.fit(X_train, y_train_6)\n",
    "\n",
    "print(clf.best_params_)\n",
    "\n",
    "plt.plot(clf.cv_results_[\"mean_test_score\"])"
   ]
  },
  {
   "cell_type": "code",
   "execution_count": 8,
   "metadata": {},
   "outputs": [
    {
     "name": "stdout",
     "output_type": "stream",
     "text": [
      "Train:  0.9523809523809523\n",
      "Test:  0.9182920400632577\n",
      "\n",
      "## Precision ##\n",
      "Train:  0.9473684210526315\n",
      "Test:  0.9275825346112886\n",
      "\n",
      "## Recall ##\n",
      "Train:  0.9574468085106383\n",
      "Test:  0.9091858037578288\n"
     ]
    }
   ],
   "source": [
    "from sklearn.metrics import f1_score\n",
    "from sklearn.metrics import recall_score\n",
    "from sklearn.metrics import precision_score\n",
    "\n",
    "y_pred_train = clf.predict(X_train)\n",
    "y_pred_test = clf.predict(X_test)\n",
    "\n",
    "f1_scr_train = f1_score(y_train_6, y_pred_train)\n",
    "f1_scr_test = f1_score(y_test_6, y_pred_test)\n",
    "\n",
    "print(\"Train: \", f1_scr_train)\n",
    "print(\"Test: \", f1_scr_test)\n",
    "\n",
    "precision_train = precision_score(y_train_6, y_pred_train)\n",
    "precision_test = precision_score(y_test_6, y_pred_test)\n",
    "recall_train = recall_score(y_train_6, y_pred_train)\n",
    "recall_test = recall_score(y_test_6, y_pred_test)\n",
    "\n",
    "print(\"\\n## Precision ##\")\n",
    "print(\"Train: \", precision_train)\n",
    "print(\"Test: \", precision_test)\n",
    "print(\"\\n## Recall ##\")\n",
    "print(\"Train: \", recall_train)\n",
    "print(\"Test: \", recall_test)"
   ]
  },
  {
   "cell_type": "markdown",
   "metadata": {},
   "source": [
    "Dump model"
   ]
  },
  {
   "cell_type": "code",
   "execution_count": null,
   "metadata": {},
   "outputs": [],
   "source": [
    "joblib.dump(clf.best_estimator_, model[1]+\".pkl\")\n",
    "joblib.dump(scaler,\"scaler.pkl\")"
   ]
  }
 ],
 "metadata": {
  "kernelspec": {
   "display_name": "python_homl2",
   "language": "python",
   "name": "python_homl2"
  },
  "language_info": {
   "codemirror_mode": {
    "name": "ipython",
    "version": 3
   },
   "file_extension": ".py",
   "mimetype": "text/x-python",
   "name": "python",
   "nbconvert_exporter": "python",
   "pygments_lexer": "ipython3",
   "version": "3.8.5"
  }
 },
 "nbformat": 4,
 "nbformat_minor": 4
}
