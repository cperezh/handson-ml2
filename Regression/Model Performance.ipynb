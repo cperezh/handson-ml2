{
 "cells": [
  {
   "cell_type": "code",
   "execution_count": 7,
   "metadata": {},
   "outputs": [],
   "source": [
    "import joblib\n",
    "import pandas as pd\n",
    "import numpy as np\n",
    "from sklearn.metrics import mean_squared_error"
   ]
  },
  {
   "cell_type": "code",
   "execution_count": 3,
   "metadata": {},
   "outputs": [],
   "source": [
    "housing = pd.read_csv(\"datasets/housing/housing.csv\")\n",
    "X = housing.drop(\"median_house_value\",axis=1)\n",
    "y = housing[\"median_house_value\"]"
   ]
  },
  {
   "cell_type": "code",
   "execution_count": 17,
   "metadata": {},
   "outputs": [],
   "source": [
    "models = [\"RandomForestRegressor\",\"DecisionTreeRegressor\",\"LinearRegression\", \"SVR\"]"
   ]
  },
  {
   "cell_type": "code",
   "execution_count": 18,
   "metadata": {},
   "outputs": [
    {
     "name": "stdout",
     "output_type": "stream",
     "text": [
      "Model:  RandomForestRegressor  : 33340.896811133935\n",
      "Model:  DecisionTreeRegressor  : 42238.63170827055\n",
      "Model:  LinearRegression  : 106652.27533319905\n",
      "Model:  SVR  : 58980.79589965558\n"
     ]
    }
   ],
   "source": [
    "for model in models:\n",
    "    pipeline =  joblib.load(model+\".pkl\")  \n",
    "    y_pred = pipeline.predict(X)\n",
    "    mse = mean_squared_error(y,y_pred)\n",
    "    rmse = np.sqrt(mse)\n",
    "    print(\"Model: \",model,\" :\",rmse)"
   ]
  },
  {
   "cell_type": "code",
   "execution_count": null,
   "metadata": {},
   "outputs": [],
   "source": []
  }
 ],
 "metadata": {
  "kernelspec": {
   "display_name": "python_homl2",
   "language": "python",
   "name": "python_homl2"
  },
  "language_info": {
   "codemirror_mode": {
    "name": "ipython",
    "version": 3
   },
   "file_extension": ".py",
   "mimetype": "text/x-python",
   "name": "python",
   "nbconvert_exporter": "python",
   "pygments_lexer": "ipython3",
   "version": "3.8.5"
  }
 },
 "nbformat": 4,
 "nbformat_minor": 4
}
